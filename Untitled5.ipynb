{
  "nbformat": 4,
  "nbformat_minor": 0,
  "metadata": {
    "colab": {
      "provenance": []
    },
    "kernelspec": {
      "name": "python3",
      "display_name": "Python 3"
    },
    "language_info": {
      "name": "python"
    }
  },
  "cells": [
    {
      "cell_type": "code",
      "source": [
        "# Write a Python function to find the maximum of three numbers Sample input:34,12,7 Sample output: 34\n",
        "\n",
        "def maximum(a, b, c):\n",
        "    if a >= b and a >= c:\n",
        "        return a\n",
        "    elif b >= a and b >= c:\n",
        "        return b\n",
        "    else:\n",
        "        return c\n",
        "a = 34\n",
        "b = 12\n",
        "c = 7\n",
        "print(maximum(a, b, c))"
      ],
      "metadata": {
        "colab": {
          "base_uri": "https://localhost:8080/"
        },
        "id": "wPQOB2-7M_KP",
        "outputId": "88901e9c-256a-466a-ede5-a297321473bb"
      },
      "execution_count": 8,
      "outputs": [
        {
          "output_type": "stream",
          "name": "stdout",
          "text": [
            "34\n"
          ]
        }
      ]
    },
    {
      "cell_type": "code",
      "source": [
        "# Write a Python function called exponent(base,exp) that returns an integer value of base raises to the power of exp. Sample input: Enter the base: 2 Enter the exponent: 3 Sample output: 8\n",
        "\n",
        "def exponent(base, exp):\n",
        "    return base ** exp\n",
        "base = int(input(\"Enter the base: \"))\n",
        "exp = int(input(\"Enter the exponent: \"))\n",
        "result = exponent(base, exp)\n",
        "print(result)"
      ],
      "metadata": {
        "colab": {
          "base_uri": "https://localhost:8080/"
        },
        "id": "2ycvtuo7Nd6t",
        "outputId": "b6684c85-e98e-4ca5-c151-ec0c555333a8"
      },
      "execution_count": 10,
      "outputs": [
        {
          "output_type": "stream",
          "name": "stdout",
          "text": [
            "Enter the base: 2\n",
            "Enter the exponent: 3\n",
            "8\n"
          ]
        }
      ]
    },
    {
      "cell_type": "code",
      "source": [
        "# Write a Python function that takes a positive integer and returns the sum of the cube of all the positive integers smaller than the specified number. Sample input: 4 Sample output: 36.\n",
        "\n",
        "def sum_of_cubes(n):\n",
        "  sum = 0\n",
        "  for i in range(1, n):\n",
        "    sum += i ** 3\n",
        "  return sum\n",
        "n = int(input(\"Enter a positive integer: \"))\n",
        "result = sum_of_cubes(n)\n",
        "print(f\"The sum of the cubes of all positive integers smaller than {n} is {result}.\")"
      ],
      "metadata": {
        "colab": {
          "base_uri": "https://localhost:8080/"
        },
        "id": "CBHkDGb1Neir",
        "outputId": "d0a3733d-d831-447a-f920-cdbd23259ec0"
      },
      "execution_count": 11,
      "outputs": [
        {
          "output_type": "stream",
          "name": "stdout",
          "text": [
            "Enter a positive integer: 4\n",
            "The sum of the cubes of all positive integers smaller than 4 is 36.\n"
          ]
        }
      ]
    },
    {
      "cell_type": "code",
      "source": [
        "# Write a Python program which iterates from 1 to 10. For multiples of 2, print “Fizz” instead of the number and for the multiples of 5, print “Buzz”. For numbers which are multiples of both 2 and 5, print “FizzBuzz”. Sample input: numbers from 1 to 10 Sample output: 1 Fizz 3 Fizz Buzz Fizz 7 Fizz 9 FizzBuzz\n",
        "for i in range(1, 11):\n",
        "  if i % 2 == 0 and i % 5 == 0:\n",
        "    print(\"FizzBuzz\")\n",
        "  elif i % 2 == 0:\n",
        "    print(\"Fizz\")\n",
        "  elif i % 5 == 0:\n",
        "    print(\"Buzz\")\n",
        "  else:\n",
        "    print(i)"
      ],
      "metadata": {
        "colab": {
          "base_uri": "https://localhost:8080/"
        },
        "id": "lhWc16upU2EH",
        "outputId": "8f83d02e-972c-49d3-f65a-fd42aa4efaab"
      },
      "execution_count": 18,
      "outputs": [
        {
          "output_type": "stream",
          "name": "stdout",
          "text": [
            "1\n",
            "Fizz\n",
            "3\n",
            "Fizz\n",
            "Buzz\n",
            "Fizz\n",
            "7\n",
            "Fizz\n",
            "9\n",
            "FizzBuzz\n"
          ]
        }
      ]
    },
    {
      "cell_type": "code",
      "source": [
        "# Write a Python function to find the most frequent item in a list of numbers. Sample input: 2, 3, 4, 2, 5, 2 Sample output: 2\n",
        "\n",
        "def most_frequent(numbers):\n",
        "  frequency = {}\n",
        "  for num in numbers:\n",
        "    frequency[num] = frequency.get(num, 0) + 1\n",
        "  most_frequent_item = max(frequency, key=frequency.get)\n",
        "  return most_frequent_item\n",
        "numbers = [2, 3, 4, 2, 5, 2]\n",
        "result = most_frequent(numbers)\n",
        "print(result)"
      ],
      "metadata": {
        "colab": {
          "base_uri": "https://localhost:8080/"
        },
        "id": "9Cc1LSF4Vnkf",
        "outputId": "ac92bbfa-7e24-4ff6-ca97-03af9063ea29"
      },
      "execution_count": 15,
      "outputs": [
        {
          "output_type": "stream",
          "name": "stdout",
          "text": [
            "2\n"
          ]
        }
      ]
    },
    {
      "cell_type": "code",
      "source": [
        "# Write a Python function to find the sum of squares of the numbers in a list. Sample input: 2,1,3,1 Sample output: 15\n",
        "\n",
        "def sum_of_squares(numbers):\n",
        "  sum = 0\n",
        "  for num in numbers:\n",
        "    sum += num ** 2\n",
        "  return sum\n",
        "numbers = [2, 1, 3, 1]\n",
        "result = sum_of_squares(numbers)\n",
        "print(result)"
      ],
      "metadata": {
        "colab": {
          "base_uri": "https://localhost:8080/"
        },
        "id": "0B0mqVF8WQCH",
        "outputId": "922df42d-665f-451c-b1e3-5b77171f6d5c"
      },
      "execution_count": 16,
      "outputs": [
        {
          "output_type": "stream",
          "name": "stdout",
          "text": [
            "15\n"
          ]
        }
      ]
    },
    {
      "cell_type": "code",
      "source": [
        "# Write a Python program using for loop that will iterate from 1 to 15. For each iteration, check if the current number is odd or even, and display the message to the screen as odd or even. Sample input: 1….15 Sample output: 1-odd 2- even …. 15-odd\n",
        "\n",
        "for i in range(1, 16):\n",
        "  if i % 2 == 0:\n",
        "    print(f\"{i}-even\")\n",
        "  else:\n",
        "    print(f\"{i}-odd\")"
      ],
      "metadata": {
        "colab": {
          "base_uri": "https://localhost:8080/"
        },
        "id": "bULHUNpFWvcV",
        "outputId": "9708c500-1524-472d-ce33-385d29048b20"
      },
      "execution_count": 17,
      "outputs": [
        {
          "output_type": "stream",
          "name": "stdout",
          "text": [
            "1-odd\n",
            "2-even\n",
            "3-odd\n",
            "4-even\n",
            "5-odd\n",
            "6-even\n",
            "7-odd\n",
            "8-even\n",
            "9-odd\n",
            "10-even\n",
            "11-odd\n",
            "12-even\n",
            "13-odd\n",
            "14-even\n",
            "15-odd\n"
          ]
        }
      ]
    },
    {
      "cell_type": "code",
      "source": [
        "# Write a Python function to convert temperatures to and from Celsius Fahrenheit. [Formula: c/5=f-32/9 where c=temperature in Celsius and f= temperature in Fahrenheit.] Sample input: Temperature in Fahrenheit =41 Sample output: Temperature in Celsius =5\n",
        "\n",
        "def convert(celsius):\n",
        "  fahrenheit = (celsius * 9/5) + 32\n",
        "  return fahrenheit\n",
        "def convert_(fahrenheit):\n",
        "  celsius = (fahrenheit - 32) * 5/9\n",
        "  return celsius\n",
        "fahrenheit = float(input(\"Enter the Fahrenheit: \"))\n",
        "celsius = convert_(fahrenheit)\n",
        "print(f\"The Celsius is {celsius:.2f} degrees.\")"
      ],
      "metadata": {
        "colab": {
          "base_uri": "https://localhost:8080/"
        },
        "id": "a0W9V1pQYRGv",
        "outputId": "c86cde1e-57a4-4c85-8f87-4c6c2cead145"
      },
      "execution_count": 23,
      "outputs": [
        {
          "output_type": "stream",
          "name": "stdout",
          "text": [
            "Enter the Fahrenheit: 80\n",
            "The Celsius is 26.67 degrees.\n"
          ]
        }
      ]
    },
    {
      "cell_type": "code",
      "source": [
        "student_name = input(\"Enter student's name: \")\n",
        "student_id = input(\"Enter student's ID: \")\n",
        "\n",
        "quiz_mark = float(input(\"Enter quiz mark (out of 10): \"))\n",
        "assignment_mark = float(input(\"Enter assignment mark (out of 20): \"))\n",
        "midterm_mark = float(input(\"Enter midterm mark (out of 30): \"))\n",
        "final_mark = float(input(\"Enter final mark (out of 40): \"))\n",
        "\n",
        "total_mark = quiz_mark + assignment_mark + midterm_mark + final_mark\n",
        "\n",
        "percentage = (total_mark / 100) * 100\n",
        "\n",
        "if percentage >= 90:\n",
        "    grade = \"A\"\n",
        "elif percentage >= 80:\n",
        "    grade = \"B\"\n",
        "elif percentage >= 70:\n",
        "    grade = \"C\"\n",
        "elif percentage >= 60:\n",
        "    grade = \"D\"\n",
        "else:\n",
        "    grade = \"F\"\n",
        "\n",
        "print(\"\\nStudent Information:\")\n",
        "print(\"Name:\", student_name)\n",
        "print(\"ID:\", student_id)\n",
        "\n",
        "print(\"\\nAssessment Marks:\")\n",
        "print(\"Quiz:\", quiz_mark)\n",
        "print(\"Assignment:\", assignment_mark)\n",
        "print(\"Midterm:\", midterm_mark)\n",
        "print(\"Final:\", final_mark)\n",
        "\n",
        "print(\"\\nTotal Mark:\", total_mark)\n",
        "print(\"Percentage:\", percentage)\n",
        "print(\"Grade:\", grade)\n",
        "\n",
        "if grade == \"A\" or grade == \"B\":\n",
        "    print(\"You have passed the course.\")\n",
        "else:\n",
        "    print(\"You have failed the course.\")"
      ],
      "metadata": {
        "colab": {
          "base_uri": "https://localhost:8080/"
        },
        "id": "Sn-vJDs0qTwe",
        "outputId": "2f90ffc7-00e3-4b7d-d5d2-fa624338c383"
      },
      "execution_count": 25,
      "outputs": [
        {
          "output_type": "stream",
          "name": "stdout",
          "text": [
            "Enter student's name: Muhammed Adhil\n",
            "Enter student's ID: 2322J1466\n",
            "Enter quiz mark (out of 10): 8.5\n",
            "Enter assignment mark (out of 20): 17\n",
            "Enter midterm mark (out of 30): 23\n",
            "Enter final mark (out of 40): 35\n",
            "\n",
            "Student Information:\n",
            "Name: Muhammed Adhil\n",
            "ID: 2322J1466\n",
            "\n",
            "Assessment Marks:\n",
            "Quiz: 8.5\n",
            "Assignment: 17.0\n",
            "Midterm: 23.0\n",
            "Final: 35.0\n",
            "\n",
            "Total Mark: 83.5\n",
            "Percentage: 83.5\n",
            "Grade: B\n",
            "You have passed the course.\n"
          ]
        }
      ]
    },
    {
      "cell_type": "code",
      "source": [
        "#Write a Python function to calculate the factorial of a number (a nonnegative integer). The function accepts the number as an argument. Sample input: 3 Sample output: 6\n",
        "\n",
        "def factorial(n):\n",
        "    if n == 0:\n",
        "        return 1\n",
        "    else:\n",
        "        return n * factorial(n-1)\n",
        "n = int(input(\"Enter a non-negative integer: \"))\n",
        "result = factorial(n)\n",
        "print(f\"The factorial of {n} is {result}.\")"
      ],
      "metadata": {
        "colab": {
          "base_uri": "https://localhost:8080/"
        },
        "id": "2LFZsNPUsvBm",
        "outputId": "0e487c40-0cfe-49fa-b481-9a63301f78db"
      },
      "execution_count": 26,
      "outputs": [
        {
          "output_type": "stream",
          "name": "stdout",
          "text": [
            "Enter a non-negative integer: 3\n",
            "The factorial of 3 is 6.\n"
          ]
        }
      ]
    },
    {
      "cell_type": "code",
      "source": [
        "\n",
        "def calculate_weighted_average(scores, weights):\n",
        "    total_weighted_score = 0\n",
        "    total_weight = sum(weights)\n",
        "\n",
        "    for score, weight in zip(scores, weights):\n",
        "        total_weighted_score += score * (weight / 100)\n",
        "\n",
        "    return total_weighted_score / total_weight\n",
        "\n",
        "def determine_letter_grade(final_grade):\n",
        "    if final_grade >= 90:\n",
        "        return 'A'\n",
        "    elif final_grade >= 80:\n",
        "        return 'B'\n",
        "    elif final_grade >= 70:\n",
        "        return 'C'\n",
        "    elif final_grade >= 60:\n",
        "        return 'D'\n",
        "    else:\n",
        "        return 'F'\n",
        "\n",
        "def main():\n",
        "    # Input student's name\n",
        "    student_name = input(\"Enter student's name: \")\n",
        "\n",
        "    # Input number of assessments\n",
        "    num_assessments = int(input(\"Enter number of assessments: \"))\n",
        "\n",
        "    assessment_types = []\n",
        "    weights = []\n",
        "    scores = []\n",
        "\n",
        "    # Input assessment types and weights\n",
        "    for _ in range(num_assessments):\n",
        "        assessment_type = input(\"Enter assessment type: \")\n",
        "        weight = float(input(f\"Enter weight (%) for {assessment_type}: \"))\n",
        "        assessment_types.append(assessment_type)\n",
        "        weights.append(weight)\n",
        "\n",
        "        # Input scores for each assessment type\n",
        "        num_scores = int(input(f\"Enter number of {assessment_type} scores: \"))\n",
        "        type_scores = []\n",
        "        for i in range(1, num_scores + 1):\n",
        "            score = float(input(f\"Enter score {i} for {assessment_type}: \"))\n",
        "            type_scores.append(score)\n",
        "        scores.append(type_scores)\n",
        "\n",
        "    # Calculate weighted average score for each assessment type\n",
        "    weighted_average_scores = []\n",
        "    for type_scores, weight in zip(scores, weights):\n",
        "        weighted_average_scores.append(calculate_weighted_average(type_scores, [weight] * len(type_scores)))\n",
        "\n",
        "    # Calculate final grade\n",
        "    final_grade = sum(weighted_average_scores)\n",
        "\n",
        "    # Determine letter grade\n",
        "    letter_grade = determine_letter_grade(final_grade)\n",
        "\n",
        "    # Display information\n",
        "    print(\"\\nFinal Grade Calculator Results:\")\n",
        "    print(f\"Student's Name: {student_name}\")\n",
        "    for assessment_type, weighted_average_score in zip(assessment_types, weighted_average_scores):\n",
        "        print(f\"{assessment_type} Weighted Average Score: {weighted_average_score:.2f}\")\n",
        "    print(f\"Final Grade: {final_grade:.2f}\")\n",
        "    print(f\"Letter Grade: {letter_grade}\")\n",
        "\n",
        "if __name__ == \"__main__\":\n",
        "    main()"
      ],
      "metadata": {
        "colab": {
          "base_uri": "https://localhost:8080/"
        },
        "id": "jnIZaQ4svniF",
        "outputId": "9e5ddc46-6d52-48bb-ef06-3e762e3782cd"
      },
      "execution_count": 30,
      "outputs": [
        {
          "output_type": "stream",
          "name": "stdout",
          "text": [
            "Enter student's name: Muhammed Adhil\n",
            "Enter number of assessments: 3\n",
            "Enter assessment type: Internal\n",
            "Enter weight (%) for Internal: 25\n",
            "Enter number of Internal scores: 5\n",
            "Enter score 1 for Internal: 14\n",
            "Enter score 2 for Internal: 16\n",
            "Enter score 3 for Internal: 8\n",
            "Enter score 4 for Internal: 20\n",
            "Enter score 5 for Internal: 19\n",
            "Enter assessment type: Model\n",
            "Enter weight (%) for Model: 75\n",
            "Enter number of Model scores: 5\n",
            "Enter score 1 for Model: 27\n",
            "Enter score 2 for Model: 30\n",
            "Enter score 3 for Model: 33\n",
            "Enter score 4 for Model: 36\n",
            "Enter score 5 for Model: 39\n",
            "Enter assessment type: Sem\n",
            "Enter weight (%) for Sem: 75\n",
            "Enter number of Sem scores: 5\n",
            "Enter score 1 for Sem: 45\n",
            "Enter score 2 for Sem: 48\n",
            "Enter score 3 for Sem: 51\n",
            "Enter score 4 for Sem: 54\n",
            "Enter score 5 for Sem: 57\n",
            "\n",
            "Final Grade Calculator Results:\n",
            "Student's Name: Muhammed Adhil\n",
            "Internal Weighted Average Score: 0.15\n",
            "Model Weighted Average Score: 0.33\n",
            "Sem Weighted Average Score: 0.51\n",
            "Final Grade: 0.99\n",
            "Letter Grade: F\n"
          ]
        }
      ]
    }
  ]
}